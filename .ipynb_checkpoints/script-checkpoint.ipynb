{
 "cells": [
  {
   "cell_type": "code",
   "execution_count": 29,
   "metadata": {},
   "outputs": [
    {
     "name": "stdout",
     "output_type": "stream",
     "text": [
      "\n",
      "\n",
      "БА-ФИИТ-15 (13 студентов) \n",
      "8.00 -- 9.35\n",
      " 9.50 -- 11.25\n",
      "11.40 -- 13.15\n",
      "14.00 -- 15.35\n",
      "15.45 -- 17.20ДВ. Администрирование OC Windows Леверьев В.С.\n",
      "17.30 -- 19.05ДВ. Администрирование OC Windows Леверьев В.С.\n",
      "8.00 -- 9.35\n",
      " 9.50 -- 11.25\n",
      "11.40 -- 13.15\n",
      "14.00 -- 15.35\n",
      "15.45 -- 17.20\n",
      "17.30 -- 19.05\n",
      "8.00 -- 9.35ДВ.  Алгоритмы и протоколы компьютерных сетей Герасимов Э.П.\n",
      " 9.50 -- 11.25ДВ.  Алгоритмы и протоколы компьютерных сетей Герасимов Э.П.\n",
      "11.40 -- 13.15Программирование на языке Питон Леверьев В.С.\n",
      "14.00 -- 15.35Программирование на языке Питон Леверьев В.С.\n",
      "15.45 -- 17.20ДВ. Анализ данных Павлов Н.Н.\n",
      "17.30 -- 19.05\n",
      "8.00 -- 9.35\n",
      " 9.50 -- 11.25Технологии компонентного программирования Эверстов В.В.\n",
      "11.40 -- 13.15Технологии компонентного программирования Эверстов В.В.\n",
      "14.00 -- 15.35ДВ. Общая экология Харлампьева П.И. / Экология Якутии Посельская С.Н.\n",
      "15.45 -- 17.20\n",
      "17.30 -- 19.05\n",
      "8.00 -- 9.35\n",
      " 9.50 -- 11.25\n",
      "11.40 -- 13.15\n",
      "14.00 -- 15.35\n",
      "15.45 -- 17.20\n",
      "17.30 -- 19.05\n",
      "8.00 -- 9.35\n",
      " 9.50 -- 11.25\n",
      "11.40 -- 13.15\n",
      "14.00 -- 15.35\n",
      "15.45 -- 17.20\n"
     ]
    }
   ],
   "source": [
    "import xlrd\n",
    "from oauth2client import file, client, tools\n",
    "group_name = 'ФИИТ-15'\n",
    "book = xlrd.open_workbook('imi2018.xls')\n",
    "curr_sheet = book.sheets()[8]\n",
    "for i in range(20): \n",
    "    if group_name in curr_sheet.cell(2,i).value: col = i\n",
    "for j in range(38):\n",
    "    time=curr_sheet.cell(j,1).value\n",
    "    subj=curr_sheet.cell(j,col).value\n",
    "    print(time + subj)"
   ]
  },
  {
   "cell_type": "code",
   "execution_count": 30,
   "metadata": {},
   "outputs": [
    {
     "name": "stderr",
     "output_type": "stream",
     "text": [
      "d:\\python37\\lib\\site-packages\\oauth2client\\_helpers.py:255: UserWarning: Cannot access token.json: No such file or directory\n",
      "  warnings.warn(_MISSING_FILE_MESSAGE.format(filename))\n",
      "usage: ipykernel_launcher.py [--auth_host_name AUTH_HOST_NAME]\n",
      "                             [--noauth_local_webserver]\n",
      "                             [--auth_host_port [AUTH_HOST_PORT [AUTH_HOST_PORT ...]]]\n",
      "                             [--logging_level {DEBUG,INFO,WARNING,ERROR,CRITICAL}]\n",
      "ipykernel_launcher.py: error: unrecognized arguments: -f C:\\Users\\carbo\\AppData\\Roaming\\jupyter\\runtime\\kernel-5024a2ff-9f63-45f9-9f1f-dde1d763e7a5.json\n"
     ]
    },
    {
     "ename": "SystemExit",
     "evalue": "2",
     "output_type": "error",
     "traceback": [
      "An exception has occurred, use %tb to see the full traceback.\n",
      "\u001b[1;31mSystemExit\u001b[0m\u001b[1;31m:\u001b[0m 2\n"
     ]
    },
    {
     "name": "stderr",
     "output_type": "stream",
     "text": [
      "d:\\python37\\lib\\site-packages\\IPython\\core\\interactiveshell.py:3273: UserWarning: To exit: use 'exit', 'quit', or Ctrl-D.\n",
      "  warn(\"To exit: use 'exit', 'quit', or Ctrl-D.\", stacklevel=1)\n"
     ]
    }
   ],
   "source": [
    "from __future__ import print_function\n",
    "import datetime\n",
    "from googleapiclient.discovery import build\n",
    "from httplib2 import Http\n",
    "from oauth2client import file, client, tools\n",
    "\n",
    "# If modifying these scopes, delete the file token.json.\n",
    "SCOPES = 'https://www.googleapis.com/auth/calendar.readonly'\n",
    "\n",
    "def main():\n",
    "    \"\"\"Shows basic usage of the Google Calendar API.\n",
    "    Prints the start and name of the next 10 events on the user's calendar.\n",
    "    \"\"\"\n",
    "    store = file.Storage('token.json')\n",
    "    creds = store.get()\n",
    "    if not creds or creds.invalid:\n",
    "        flow = client.flow_from_clientsecrets('credentials.json', SCOPES)\n",
    "        creds = tools.run_flow(flow, store)\n",
    "    service = build('calendar', 'v3', http=creds.authorize(Http()))\n",
    "\n",
    "    # Call the Calendar API\n",
    "    now = datetime.datetime.utcnow().isoformat() + 'Z' # 'Z' indicates UTC time\n",
    "    print('Getting the upcoming 10 events')\n",
    "    events_result = service.events().list(calendarId='primary', timeMin=now,\n",
    "                                        maxResults=10, singleEvents=True,\n",
    "                                        orderBy='startTime').execute()\n",
    "    events = events_result.get('items', [])\n",
    "\n",
    "    if not events:\n",
    "        print('No upcoming events found.')\n",
    "    for event in events:\n",
    "        start = event['start'].get('dateTime', event['start'].get('date'))\n",
    "        print(start, event['summary'])\n",
    "\n",
    "if __name__ == '__main__':\n",
    "    main()"
   ]
  },
  {
   "cell_type": "code",
   "execution_count": null,
   "metadata": {},
   "outputs": [],
   "source": []
  }
 ],
 "metadata": {
  "kernelspec": {
   "display_name": "Python 3",
   "language": "python",
   "name": "python3"
  },
  "language_info": {
   "codemirror_mode": {
    "name": "ipython",
    "version": 3
   },
   "file_extension": ".py",
   "mimetype": "text/x-python",
   "name": "python",
   "nbconvert_exporter": "python",
   "pygments_lexer": "ipython3",
   "version": "3.7.0"
  }
 },
 "nbformat": 4,
 "nbformat_minor": 2
}
